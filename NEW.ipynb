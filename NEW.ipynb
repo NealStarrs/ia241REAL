{
 "cells": [
  {
   "cell_type": "markdown",
   "metadata": {},
   "source": [
    "# Final 241"
   ]
  },
  {
   "cell_type": "markdown",
   "metadata": {},
   "source": [
    "## Introduction \n",
    "As aspiring intelligence analysts, it is imperative to fully understand the job market being entered in the near future. The first step in acquiring this understanding is by researching the requirements of intelligence positions across the board, entry level and advanced alike. These requirements include education, experience, desired skills/abilities, and general competency among many factors. The objective of this assignment plays directly into acquiring this understanding. "
   ]
  },
  {
   "cell_type": "markdown",
   "metadata": {},
   "source": [
    "Data used in this project: <a href= 'Python_lab.xlsx'>data</a>"
   ]
  },
  {
   "cell_type": "markdown",
   "metadata": {},
   "source": [
    "# Q1"
   ]
  },
  {
   "cell_type": "code",
   "execution_count": 47,
   "metadata": {},
   "outputs": [
    {
     "data": {
      "text/html": [
       "<div>\n",
       "<style scoped>\n",
       "    .dataframe tbody tr th:only-of-type {\n",
       "        vertical-align: middle;\n",
       "    }\n",
       "\n",
       "    .dataframe tbody tr th {\n",
       "        vertical-align: top;\n",
       "    }\n",
       "\n",
       "    .dataframe thead th {\n",
       "        text-align: right;\n",
       "    }\n",
       "</style>\n",
       "<table border=\"1\" class=\"dataframe\">\n",
       "  <thead>\n",
       "    <tr style=\"text-align: right;\">\n",
       "      <th></th>\n",
       "      <th>job title</th>\n",
       "      <th>company</th>\n",
       "      <th>posted date</th>\n",
       "      <th>job location</th>\n",
       "      <th>minimal salary</th>\n",
       "      <th>job duty</th>\n",
       "      <th>required skills</th>\n",
       "      <th>years of experience</th>\n",
       "      <th>minimial education</th>\n",
       "      <th>URL</th>\n",
       "      <th>Unnamed: 10</th>\n",
       "    </tr>\n",
       "  </thead>\n",
       "  <tbody>\n",
       "    <tr>\n",
       "      <th>0</th>\n",
       "      <td>Political Analyst</td>\n",
       "      <td>Central Intelligence Agency</td>\n",
       "      <td>2018-10-22</td>\n",
       "      <td>Washington, DC</td>\n",
       "      <td>55000</td>\n",
       "      <td>As a Political Analyst for the CIA, you will s...</td>\n",
       "      <td>Strong critical thinking and problem solving s...</td>\n",
       "      <td>0</td>\n",
       "      <td>Bachlor's Degree in Foreign area studies\\nInte...</td>\n",
       "      <td>https://www.indeed.com/viewjob?jk=91e1469788f4...</td>\n",
       "      <td>NaN</td>\n",
       "    </tr>\n",
       "    <tr>\n",
       "      <th>1</th>\n",
       "      <td>Intelligence Analyst/Advisor</td>\n",
       "      <td>Department of the Navy</td>\n",
       "      <td>2018-11-02</td>\n",
       "      <td>Bagram, Afghanistan</td>\n",
       "      <td>73375</td>\n",
       "      <td>Serve as an INTELLIGENCE ANALYST/ADVISOR with ...</td>\n",
       "      <td>Assist in planning and coordinating Counter-th...</td>\n",
       "      <td>1</td>\n",
       "      <td>High School</td>\n",
       "      <td>https://www.usajobs.gov/GetJob/ViewDetails/515...</td>\n",
       "      <td>NaN</td>\n",
       "    </tr>\n",
       "    <tr>\n",
       "      <th>2</th>\n",
       "      <td>Counterintelligence Analyst</td>\n",
       "      <td>Leidos</td>\n",
       "      <td>2019-03-19</td>\n",
       "      <td>Reston, VA</td>\n",
       "      <td>115000</td>\n",
       "      <td>Conduct extensive, comprehensive research and ...</td>\n",
       "      <td>Current Top Secret government security clearan...</td>\n",
       "      <td>4</td>\n",
       "      <td>Bachelor's degree from an accredited institution</td>\n",
       "      <td>NaN</td>\n",
       "      <td>https://www.indeed.com/viewjob?jk=8e7bdf1edddd...</td>\n",
       "    </tr>\n",
       "    <tr>\n",
       "      <th>3</th>\n",
       "      <td>Security Specialist</td>\n",
       "      <td>Millennium Space Systems, A Boeing Company</td>\n",
       "      <td>2019-03-25</td>\n",
       "      <td>El Segundo, CA</td>\n",
       "      <td>60000</td>\n",
       "      <td>Collecting and reviewing SF86 Background Quest...</td>\n",
       "      <td>Proficient with all Microsoft Office Suite (Wo...</td>\n",
       "      <td>2</td>\n",
       "      <td>High School</td>\n",
       "      <td>https://www.indeed.com/viewjob?jk=03c12d9d8937...</td>\n",
       "      <td>NaN</td>\n",
       "    </tr>\n",
       "    <tr>\n",
       "      <th>4</th>\n",
       "      <td>Forensic Accountant-Counter Terror</td>\n",
       "      <td>FBI</td>\n",
       "      <td>2019-04-03</td>\n",
       "      <td>Mclean, VA</td>\n",
       "      <td>69581</td>\n",
       "      <td>Provides knowledge with respect to accounting ...</td>\n",
       "      <td>Accounting\\nAnalytic Thinking\\nAuditing\\nCommu...</td>\n",
       "      <td>1</td>\n",
       "      <td>Applicant must have completed 3 full years of ...</td>\n",
       "      <td>https://apply.fbijobs.gov/psc/ps/EMPLOYEE/HRMS...</td>\n",
       "      <td>NaN</td>\n",
       "    </tr>\n",
       "    <tr>\n",
       "      <th>5</th>\n",
       "      <td>Data Scientist</td>\n",
       "      <td>FBI</td>\n",
       "      <td>2019-04-03</td>\n",
       "      <td>Clarksburg, WV</td>\n",
       "      <td>87252</td>\n",
       "      <td>Analyze, identify, and assess data attributes ...</td>\n",
       "      <td>Data Analysis\\nAlgorithms\\nAnalytic Thinking\\n...</td>\n",
       "      <td>3</td>\n",
       "      <td>Degree: Mathematics, statistics, or actuarial ...</td>\n",
       "      <td>https://apply.fbijobs.gov/psc/ps/EMPLOYEE/HRMS...</td>\n",
       "      <td>NaN</td>\n",
       "    </tr>\n",
       "    <tr>\n",
       "      <th>6</th>\n",
       "      <td>Management and Program Analyst</td>\n",
       "      <td>FBI</td>\n",
       "      <td>2019-04-03</td>\n",
       "      <td>Huntsville, AL</td>\n",
       "      <td>83787</td>\n",
       "      <td>Leverage previous contracting/procurement expe...</td>\n",
       "      <td>Analytic Thinking\\nProblem Solving/Judgement\\n...</td>\n",
       "      <td>1</td>\n",
       "      <td>Bachelor's degree from an accredited institution</td>\n",
       "      <td>https://apply.fbijobs.gov/psc/ps/EMPLOYEE/HRMS...</td>\n",
       "      <td>NaN</td>\n",
       "    </tr>\n",
       "    <tr>\n",
       "      <th>7</th>\n",
       "      <td>Intelligence Specialist</td>\n",
       "      <td>Department of the Army</td>\n",
       "      <td>2019-04-08</td>\n",
       "      <td>Afghanistan</td>\n",
       "      <td>83398</td>\n",
       "      <td>Function as an Offensive Counterintelligence O...</td>\n",
       "      <td>Counterintelligence (CI) Operations\\nOral Comm...</td>\n",
       "      <td>3</td>\n",
       "      <td>High School</td>\n",
       "      <td>https://www.usajobs.gov/GetJob/ViewDetails/529...</td>\n",
       "      <td>NaN</td>\n",
       "    </tr>\n",
       "    <tr>\n",
       "      <th>8</th>\n",
       "      <td>Intelligence Research Specialist</td>\n",
       "      <td>Department of Energy</td>\n",
       "      <td>2019-04-09</td>\n",
       "      <td>Washington, DC</td>\n",
       "      <td>83398</td>\n",
       "      <td>Provide intelligence analysis on nuclear proli...</td>\n",
       "      <td>Experience providing reviews and evaluation of...</td>\n",
       "      <td>3</td>\n",
       "      <td>High School</td>\n",
       "      <td>https://www.usajobs.gov/GetJob/ViewDetails/530...</td>\n",
       "      <td>NaN</td>\n",
       "    </tr>\n",
       "    <tr>\n",
       "      <th>9</th>\n",
       "      <td>Intelligence Specialist</td>\n",
       "      <td>Department of the Army</td>\n",
       "      <td>2019-04-10</td>\n",
       "      <td>Fort Gordon, GA</td>\n",
       "      <td>74596</td>\n",
       "      <td>Performs preliminary and advanced analysis to ...</td>\n",
       "      <td>Communications\\nCybersecurity and Cyber Operat...</td>\n",
       "      <td>3</td>\n",
       "      <td>High School</td>\n",
       "      <td>https://www.usajobs.gov/GetJob/ViewDetails/529...</td>\n",
       "      <td>NaN</td>\n",
       "    </tr>\n",
       "    <tr>\n",
       "      <th>10</th>\n",
       "      <td>\\nThreat Intelligence Analyst</td>\n",
       "      <td>Hilton Corporate</td>\n",
       "      <td>2019-04-11</td>\n",
       "      <td>McLean, VA</td>\n",
       "      <td>85000</td>\n",
       "      <td>Collaborate with business partners, key stakeh...</td>\n",
       "      <td>One (1) year of experience organizing and cont...</td>\n",
       "      <td>1</td>\n",
       "      <td>Bachelor's degree from an accredited institution</td>\n",
       "      <td>https://www.indeed.com/viewjob?jk=92ea12954f4a...</td>\n",
       "      <td>NaN</td>\n",
       "    </tr>\n",
       "    <tr>\n",
       "      <th>11</th>\n",
       "      <td>All Source Intelligence Analyst</td>\n",
       "      <td>CyOne, Inc.</td>\n",
       "      <td>2019-04-11</td>\n",
       "      <td>Aberdeen, MD</td>\n",
       "      <td>95000</td>\n",
       "      <td>Provide analytical/operational insight and exp...</td>\n",
       "      <td>A security clearance at the TOP SECRET with SC...</td>\n",
       "      <td>5</td>\n",
       "      <td>Bachelor's (Required)</td>\n",
       "      <td>https://www.indeed.com/cmp/CyOne,-Inc./jobs/So...</td>\n",
       "      <td>NaN</td>\n",
       "    </tr>\n",
       "    <tr>\n",
       "      <th>12</th>\n",
       "      <td>Intelligence Research Specialist</td>\n",
       "      <td>Centers for Disease Control and Prevention</td>\n",
       "      <td>2019-04-11</td>\n",
       "      <td>Atlanta, GA</td>\n",
       "      <td>54095</td>\n",
       "      <td>Develop and Implement Counterintelligence/Insi...</td>\n",
       "      <td>Specialized experience is experience which is ...</td>\n",
       "      <td>1</td>\n",
       "      <td>Master's Degree or Equivalent</td>\n",
       "      <td>https://www.usajobs.gov/GetJob/ViewDetails/528...</td>\n",
       "      <td>NaN</td>\n",
       "    </tr>\n",
       "    <tr>\n",
       "      <th>13</th>\n",
       "      <td>Intelligence Research Specialist</td>\n",
       "      <td>Department of State</td>\n",
       "      <td>2019-04-11</td>\n",
       "      <td>Washington, DC</td>\n",
       "      <td>83398</td>\n",
       "      <td>Serves as an expert foreign affairs intelligen...</td>\n",
       "      <td>Experience producing policy-relevant analytic ...</td>\n",
       "      <td>3</td>\n",
       "      <td>High School</td>\n",
       "      <td>https://www.usajobs.gov/GetJob/ViewDetails/530...</td>\n",
       "      <td>NaN</td>\n",
       "    </tr>\n",
       "    <tr>\n",
       "      <th>14</th>\n",
       "      <td>Intelligence Operations Specialist</td>\n",
       "      <td>Defense Threat Reduction Agency</td>\n",
       "      <td>2019-04-11</td>\n",
       "      <td>Fort Belvoir, VA</td>\n",
       "      <td>99172</td>\n",
       "      <td>Planning, preparing and conducting counterinte...</td>\n",
       "      <td>Counterintelligence\\nOral Communication\\nWritt...</td>\n",
       "      <td>1</td>\n",
       "      <td>Bachelor's Degree with experience</td>\n",
       "      <td>https://www.usajobs.gov/GetJob/ViewDetails/530...</td>\n",
       "      <td>NaN</td>\n",
       "    </tr>\n",
       "    <tr>\n",
       "      <th>15</th>\n",
       "      <td>Intelligence Research Specialist</td>\n",
       "      <td>Department of Homeland Security (DHS)</td>\n",
       "      <td>2019-04-15</td>\n",
       "      <td>Washington, DC</td>\n",
       "      <td>57510</td>\n",
       "      <td>Interpreting specialized datasets or other int...</td>\n",
       "      <td>Applying appropriate knowledge to support the ...</td>\n",
       "      <td>3</td>\n",
       "      <td>Master's Degree with experience</td>\n",
       "      <td>https://www.usajobs.gov/GetJob/ViewDetails/530...</td>\n",
       "      <td>NaN</td>\n",
       "    </tr>\n",
       "    <tr>\n",
       "      <th>16</th>\n",
       "      <td>Intelligence Operations Specialist (Watch Offi...</td>\n",
       "      <td>Immigration and Customs Enforcement</td>\n",
       "      <td>2019-04-16</td>\n",
       "      <td>Washington, DC</td>\n",
       "      <td>57510</td>\n",
       "      <td>Gains and maintains global situational awarene...</td>\n",
       "      <td>Assisting senior specialists in the collection...</td>\n",
       "      <td>3</td>\n",
       "      <td>Master's Degree or Equivalent</td>\n",
       "      <td>https://www.usajobs.gov/GetJob/ViewDetails/530...</td>\n",
       "      <td>NaN</td>\n",
       "    </tr>\n",
       "    <tr>\n",
       "      <th>17</th>\n",
       "      <td>Supervisory Intelligence Research Specialist</td>\n",
       "      <td>Immigration and Customs Enforcement</td>\n",
       "      <td>2019-04-17</td>\n",
       "      <td>Buffalo, NY</td>\n",
       "      <td>127562</td>\n",
       "      <td>Provide administrative and technical supervisi...</td>\n",
       "      <td>Must be able to observe and evaluate work perf...</td>\n",
       "      <td>1</td>\n",
       "      <td>Bachelor's Degree with experience</td>\n",
       "      <td>https://www.usajobs.gov/GetJob/ViewDetails/530...</td>\n",
       "      <td>NaN</td>\n",
       "    </tr>\n",
       "    <tr>\n",
       "      <th>18</th>\n",
       "      <td>Intelligence Analyst (Sr)</td>\n",
       "      <td>US Postal Service</td>\n",
       "      <td>2019-04-17</td>\n",
       "      <td>Washington, DC</td>\n",
       "      <td>70173</td>\n",
       "      <td>Collaborates with headquarters and field perso...</td>\n",
       "      <td>Knowledge of information technology sufficient...</td>\n",
       "      <td>2</td>\n",
       "      <td>Bachelor's Degree</td>\n",
       "      <td>https://www.usajobs.gov/GetJob/ViewDetails/530...</td>\n",
       "      <td>NaN</td>\n",
       "    </tr>\n",
       "    <tr>\n",
       "      <th>19</th>\n",
       "      <td>Intelligence Analyst</td>\n",
       "      <td>NC4</td>\n",
       "      <td>2019-11-16</td>\n",
       "      <td>El Segundo, CA</td>\n",
       "      <td>60000</td>\n",
       "      <td>Monitor open source domestic/global real-time ...</td>\n",
       "      <td>Bachelor’s Degree or High School Diploma and a...</td>\n",
       "      <td>3</td>\n",
       "      <td>High School</td>\n",
       "      <td>https://www.indeed.com/cmp/NC4/jobs/Intelligen...</td>\n",
       "      <td>NaN</td>\n",
       "    </tr>\n",
       "  </tbody>\n",
       "</table>\n",
       "</div>"
      ],
      "text/plain": [
       "                                            job title  \\\n",
       "0                                   Political Analyst   \n",
       "1                        Intelligence Analyst/Advisor   \n",
       "2                         Counterintelligence Analyst   \n",
       "3                                 Security Specialist   \n",
       "4                  Forensic Accountant-Counter Terror   \n",
       "5                                     Data Scientist    \n",
       "6                      Management and Program Analyst   \n",
       "7                            Intelligence Specialist    \n",
       "8                   Intelligence Research Specialist    \n",
       "9                            Intelligence Specialist    \n",
       "10                      \\nThreat Intelligence Analyst   \n",
       "11                   All Source Intelligence Analyst    \n",
       "12                  Intelligence Research Specialist    \n",
       "13                  Intelligence Research Specialist    \n",
       "14                Intelligence Operations Specialist    \n",
       "15                  Intelligence Research Specialist    \n",
       "16  Intelligence Operations Specialist (Watch Offi...   \n",
       "17      Supervisory Intelligence Research Specialist    \n",
       "18                          Intelligence Analyst (Sr)   \n",
       "19                               Intelligence Analyst   \n",
       "\n",
       "                                       company posted date  \\\n",
       "0                  Central Intelligence Agency  2018-10-22   \n",
       "1                       Department of the Navy  2018-11-02   \n",
       "2                                       Leidos  2019-03-19   \n",
       "3   Millennium Space Systems, A Boeing Company  2019-03-25   \n",
       "4                                          FBI  2019-04-03   \n",
       "5                                          FBI  2019-04-03   \n",
       "6                                          FBI  2019-04-03   \n",
       "7                       Department of the Army  2019-04-08   \n",
       "8                        Department of Energy   2019-04-09   \n",
       "9                       Department of the Army  2019-04-10   \n",
       "10                            Hilton Corporate  2019-04-11   \n",
       "11                                 CyOne, Inc.  2019-04-11   \n",
       "12  Centers for Disease Control and Prevention  2019-04-11   \n",
       "13                         Department of State  2019-04-11   \n",
       "14            Defense Threat Reduction Agency   2019-04-11   \n",
       "15       Department of Homeland Security (DHS)  2019-04-15   \n",
       "16        Immigration and Customs Enforcement   2019-04-16   \n",
       "17        Immigration and Customs Enforcement   2019-04-17   \n",
       "18                          US Postal Service   2019-04-17   \n",
       "19                                         NC4  2019-11-16   \n",
       "\n",
       "           job location  minimal salary  \\\n",
       "0        Washington, DC           55000   \n",
       "1   Bagram, Afghanistan           73375   \n",
       "2            Reston, VA          115000   \n",
       "3        El Segundo, CA           60000   \n",
       "4            Mclean, VA           69581   \n",
       "5        Clarksburg, WV           87252   \n",
       "6        Huntsville, AL           83787   \n",
       "7          Afghanistan            83398   \n",
       "8        Washington, DC           83398   \n",
       "9       Fort Gordon, GA           74596   \n",
       "10           McLean, VA           85000   \n",
       "11         Aberdeen, MD           95000   \n",
       "12          Atlanta, GA           54095   \n",
       "13       Washington, DC           83398   \n",
       "14     Fort Belvoir, VA           99172   \n",
       "15       Washington, DC           57510   \n",
       "16       Washington, DC           57510   \n",
       "17          Buffalo, NY          127562   \n",
       "18       Washington, DC           70173   \n",
       "19       El Segundo, CA           60000   \n",
       "\n",
       "                                             job duty  \\\n",
       "0   As a Political Analyst for the CIA, you will s...   \n",
       "1   Serve as an INTELLIGENCE ANALYST/ADVISOR with ...   \n",
       "2   Conduct extensive, comprehensive research and ...   \n",
       "3   Collecting and reviewing SF86 Background Quest...   \n",
       "4   Provides knowledge with respect to accounting ...   \n",
       "5   Analyze, identify, and assess data attributes ...   \n",
       "6   Leverage previous contracting/procurement expe...   \n",
       "7   Function as an Offensive Counterintelligence O...   \n",
       "8   Provide intelligence analysis on nuclear proli...   \n",
       "9   Performs preliminary and advanced analysis to ...   \n",
       "10  Collaborate with business partners, key stakeh...   \n",
       "11  Provide analytical/operational insight and exp...   \n",
       "12  Develop and Implement Counterintelligence/Insi...   \n",
       "13  Serves as an expert foreign affairs intelligen...   \n",
       "14  Planning, preparing and conducting counterinte...   \n",
       "15  Interpreting specialized datasets or other int...   \n",
       "16  Gains and maintains global situational awarene...   \n",
       "17  Provide administrative and technical supervisi...   \n",
       "18  Collaborates with headquarters and field perso...   \n",
       "19  Monitor open source domestic/global real-time ...   \n",
       "\n",
       "                                      required skills  years of experience  \\\n",
       "0   Strong critical thinking and problem solving s...                    0   \n",
       "1   Assist in planning and coordinating Counter-th...                    1   \n",
       "2   Current Top Secret government security clearan...                    4   \n",
       "3   Proficient with all Microsoft Office Suite (Wo...                    2   \n",
       "4   Accounting\\nAnalytic Thinking\\nAuditing\\nCommu...                    1   \n",
       "5   Data Analysis\\nAlgorithms\\nAnalytic Thinking\\n...                    3   \n",
       "6   Analytic Thinking\\nProblem Solving/Judgement\\n...                    1   \n",
       "7   Counterintelligence (CI) Operations\\nOral Comm...                    3   \n",
       "8   Experience providing reviews and evaluation of...                    3   \n",
       "9   Communications\\nCybersecurity and Cyber Operat...                    3   \n",
       "10  One (1) year of experience organizing and cont...                    1   \n",
       "11  A security clearance at the TOP SECRET with SC...                    5   \n",
       "12  Specialized experience is experience which is ...                    1   \n",
       "13  Experience producing policy-relevant analytic ...                    3   \n",
       "14  Counterintelligence\\nOral Communication\\nWritt...                    1   \n",
       "15  Applying appropriate knowledge to support the ...                    3   \n",
       "16  Assisting senior specialists in the collection...                    3   \n",
       "17  Must be able to observe and evaluate work perf...                    1   \n",
       "18  Knowledge of information technology sufficient...                    2   \n",
       "19  Bachelor’s Degree or High School Diploma and a...                    3   \n",
       "\n",
       "                                   minimial education  \\\n",
       "0   Bachlor's Degree in Foreign area studies\\nInte...   \n",
       "1                                        High School    \n",
       "2    Bachelor's degree from an accredited institution   \n",
       "3                                        High School    \n",
       "4   Applicant must have completed 3 full years of ...   \n",
       "5   Degree: Mathematics, statistics, or actuarial ...   \n",
       "6    Bachelor's degree from an accredited institution   \n",
       "7                                        High School    \n",
       "8                                        High School    \n",
       "9                                        High School    \n",
       "10   Bachelor's degree from an accredited institution   \n",
       "11                              Bachelor's (Required)   \n",
       "12                     Master's Degree or Equivalent    \n",
       "13                                       High School    \n",
       "14                 Bachelor's Degree with experience    \n",
       "15                   Master's Degree with experience    \n",
       "16                     Master's Degree or Equivalent    \n",
       "17                 Bachelor's Degree with experience    \n",
       "18                                  Bachelor's Degree   \n",
       "19                                       High School    \n",
       "\n",
       "                                                  URL  \\\n",
       "0   https://www.indeed.com/viewjob?jk=91e1469788f4...   \n",
       "1   https://www.usajobs.gov/GetJob/ViewDetails/515...   \n",
       "2                                                 NaN   \n",
       "3   https://www.indeed.com/viewjob?jk=03c12d9d8937...   \n",
       "4   https://apply.fbijobs.gov/psc/ps/EMPLOYEE/HRMS...   \n",
       "5   https://apply.fbijobs.gov/psc/ps/EMPLOYEE/HRMS...   \n",
       "6   https://apply.fbijobs.gov/psc/ps/EMPLOYEE/HRMS...   \n",
       "7   https://www.usajobs.gov/GetJob/ViewDetails/529...   \n",
       "8   https://www.usajobs.gov/GetJob/ViewDetails/530...   \n",
       "9   https://www.usajobs.gov/GetJob/ViewDetails/529...   \n",
       "10  https://www.indeed.com/viewjob?jk=92ea12954f4a...   \n",
       "11  https://www.indeed.com/cmp/CyOne,-Inc./jobs/So...   \n",
       "12  https://www.usajobs.gov/GetJob/ViewDetails/528...   \n",
       "13  https://www.usajobs.gov/GetJob/ViewDetails/530...   \n",
       "14  https://www.usajobs.gov/GetJob/ViewDetails/530...   \n",
       "15  https://www.usajobs.gov/GetJob/ViewDetails/530...   \n",
       "16  https://www.usajobs.gov/GetJob/ViewDetails/530...   \n",
       "17  https://www.usajobs.gov/GetJob/ViewDetails/530...   \n",
       "18  https://www.usajobs.gov/GetJob/ViewDetails/530...   \n",
       "19  https://www.indeed.com/cmp/NC4/jobs/Intelligen...   \n",
       "\n",
       "                                          Unnamed: 10  \n",
       "0                                                 NaN  \n",
       "1                                                 NaN  \n",
       "2   https://www.indeed.com/viewjob?jk=8e7bdf1edddd...  \n",
       "3                                                 NaN  \n",
       "4                                                 NaN  \n",
       "5                                                 NaN  \n",
       "6                                                 NaN  \n",
       "7                                                 NaN  \n",
       "8                                                 NaN  \n",
       "9                                                 NaN  \n",
       "10                                                NaN  \n",
       "11                                                NaN  \n",
       "12                                                NaN  \n",
       "13                                                NaN  \n",
       "14                                                NaN  \n",
       "15                                                NaN  \n",
       "16                                                NaN  \n",
       "17                                                NaN  \n",
       "18                                                NaN  \n",
       "19                                                NaN  "
      ]
     },
     "execution_count": 47,
     "metadata": {},
     "output_type": "execute_result"
    }
   ],
   "source": [
    "import pandas\n",
    "\n",
    "df = pandas.read_excel(\"Python__lab.xlsx\")\n",
    "df[:20]"
   ]
  },
  {
   "cell_type": "markdown",
   "metadata": {},
   "source": [
    "# Q2.1"
   ]
  },
  {
   "cell_type": "code",
   "execution_count": 4,
   "metadata": {},
   "outputs": [
    {
     "name": "stdout",
     "output_type": "stream",
     "text": [
      "Intelligence Research Specialist  4\n",
      "Intelligence Specialist  2\n",
      "Political Analyst 1\n",
      "Intelligence Analyst/Advisor 1\n",
      "Counterintelligence Analyst 1\n"
     ]
    }
   ],
   "source": [
    "from collections import Counter\n",
    "job_title_list = df['job title']\n",
    "count_result=Counter(job_title_list)\n",
    "    \n",
    "for word, count in count_result.most_common(5):\n",
    "    print(word, count)"
   ]
  },
  {
   "cell_type": "code",
   "execution_count": 10,
   "metadata": {},
   "outputs": [
    {
     "data": {
      "image/png": "[encoded data removed]",
      "text/plain": [
       "<Figure size 432x288 with 1 Axes>"
      ]
     },
     "metadata": {},
     "output_type": "display_data"
    }
   ],
   "source": [
    "import matplotlib.pyplot as plt\n",
    "\n",
    "result=Counter(df['job title'])\n",
    "\n",
    "plt.barh(list(result.keys()),list(result.values()))\n",
    "plt.show()"
   ]
  },
  {
   "cell_type": "markdown",
   "metadata": {},
   "source": [
    "First, we imported the Counter function from collections in order to be able to count the total number of job titles. We then created a seperate list titled job_title_list to be the place holder for the count we were attempting to acquire. We then used the Counter function to count the job title occurences within our original job title list. From there, we chose to again use the count function in a for loop to show the five most common results that were found amongst the job titles. "
   ]
  },
  {
   "cell_type": "markdown",
   "metadata": {},
   "source": [
    "# Q2.2"
   ]
  },
  {
   "cell_type": "code",
   "execution_count": 4,
   "metadata": {},
   "outputs": [
    {
     "name": "stdout",
     "output_type": "stream",
     "text": [
      "FBI 3\n",
      "Department of the Army 2\n",
      "Immigration and Customs Enforcement  2\n",
      "Central Intelligence Agency 1\n",
      "Department of the Navy 1\n"
     ]
    },
    {
     "data": {
      "image/png": "[encoded data removed]",
      "text/plain": [
       "<Figure size 432x288 with 1 Axes>"
      ]
     },
     "metadata": {},
     "output_type": "display_data"
    }
   ],
   "source": [
    "company_list = df['company']\n",
    "count_result=Counter(company_list)\n",
    "    \n",
    "for word, count in count_result.most_common(5):\n",
    "    print(word, count)\n",
    "    \n",
    "result=Counter(company_list)\n",
    "\n",
    "plt.pie(result.values(),labels=result.keys())\n",
    "plt.show()"
   ]
  },
  {
   "cell_type": "markdown",
   "metadata": {},
   "source": [
    "With this question, we aimed to answer which company posted the most total amount of job listings. We opted to utilize a pie chart, although generally not idea for analysis, to show variation in our methodology. First, we created a new list that contained all of the individual companies named company_list. We then simply utilized the Counter function again to sort through the number of postings per company. A simple most common result count was then implemented to highlight the five most active posters. The information was then compiled into a pie chart, as seen above, to display the individual shares of each company in total job posting. "
   ]
  },
  {
   "cell_type": "markdown",
   "metadata": {},
   "source": [
    "# Q2.3"
   ]
  },
  {
   "cell_type": "code",
   "execution_count": 6,
   "metadata": {
    "scrolled": true
   },
   "outputs": [
    {
     "name": "stdout",
     "output_type": "stream",
     "text": [
      "Counter({Timestamp('2019-04-11 00:00:00'): 5, Timestamp('2019-04-03 00:00:00'): 3, Timestamp('2019-04-17 00:00:00'): 2, Timestamp('2018-10-22 00:00:00'): 1, Timestamp('2018-11-02 00:00:00'): 1, Timestamp('2019-03-19 00:00:00'): 1, Timestamp('2019-03-25 00:00:00'): 1, Timestamp('2019-04-08 00:00:00'): 1, Timestamp('2019-04-09 00:00:00'): 1, Timestamp('2019-04-10 00:00:00'): 1, Timestamp('2019-04-15 00:00:00'): 1, Timestamp('2019-04-16 00:00:00'): 1, Timestamp('2019-11-16 00:00:00'): 1})\n"
     ]
    },
    {
     "data": {
      "image/png": "[encoded data removed]",
      "text/plain": [
       "<Figure size 432x288 with 1 Axes>"
      ]
     },
     "metadata": {},
     "output_type": "display_data"
    }
   ],
   "source": [
    "import pandas\n",
    "df=pandas.read_excel(\"Python_lab.xlsx\")\n",
    "df['posted date']\n",
    "\n",
    "result=Counter(df['posted date'])\n",
    "print(result)\n",
    "\n",
    "\n",
    "\n",
    "%matplotlib inline\n",
    "import matplotlib.pyplot as plt\n",
    "\n",
    "from matplotlib.pyplot import figure\n",
    "\n",
    "plt.plot(result.keys(),result.values())\n",
    "plt.show()"
   ]
  },
  {
   "cell_type": "markdown",
   "metadata": {},
   "source": [
    "This question aimed to answer how the number of job postings varied by the days. First, pandas was imported to ease the process of analysis, and to make the code generally easier to implement. We then used the df function to extract the posted dates from each job posting in our original list. The Counter function was then implemented to count the occurence of postings in reference to dates of posting. The plt function was then imported, and then we depicted the relationship in question through the use of the line chart seen above. "
   ]
  },
  {
   "cell_type": "markdown",
   "metadata": {},
   "source": [
    "# Q2.4"
   ]
  },
  {
   "cell_type": "code",
   "execution_count": 8,
   "metadata": {},
   "outputs": [
    {
     "data": {
      "image/png": "[encoded data removed]",
      "text/plain": [
       "<Figure size 432x288 with 1 Axes>"
      ]
     },
     "metadata": {},
     "output_type": "display_data"
    }
   ],
   "source": [
    "df['job location']\n",
    "jlocation_list = df['job location']\n",
    "\n",
    "count_result=Counter(jlocation_list)\n",
    "    \n",
    "plt.barh(list(count_result.keys()),list(count_result.values()))\n",
    "plt.show()"
   ]
  },
  {
   "cell_type": "markdown",
   "metadata": {},
   "source": [
    "This question aimed to discover the location of each of our selected job postings. We first utilized the df function in order to extract and work with our job locations from our original excel file. A seperate list, jlocation_list, was then created to house this data. The Counter funtion was then used to count the job postings in relation to the location in which they would be out of. A simple horizontal bar chart was then selected in order to depict the data. This was done by utilizing plt.barh and then entering our variables. "
   ]
  },
  {
   "cell_type": "markdown",
   "metadata": {},
   "source": [
    "# Q2.5"
   ]
  },
  {
   "cell_type": "code",
   "execution_count": 7,
   "metadata": {},
   "outputs": [
    {
     "name": "stdout",
     "output_type": "stream",
     "text": [
      "the average minimal salary is $78740.35\n"
     ]
    }
   ],
   "source": [
    "import numpy as np\n",
    "salary_list = df['minimal salary']\n",
    "print('the average minimal salary is ${}'.format(np.mean(salary_list)))"
   ]
  },
  {
   "cell_type": "markdown",
   "metadata": {},
   "source": [
    "This problem was rather simple as it was solely in search of the average minimal salary of the accumulated job postings. The np funtion, or Numpy, was imported. A list was created that would contain all of the minimal salaries from our job postings. The mean was then derived from salary_list by using the np.mean funtion."
   ]
  },
  {
   "cell_type": "markdown",
   "metadata": {},
   "source": [
    "# Q2.6"
   ]
  },
  {
   "cell_type": "code",
   "execution_count": 8,
   "metadata": {},
   "outputs": [
    {
     "name": "stdout",
     "output_type": "stream",
     "text": [
      "the average minimal years of experience is 2.2\n"
     ]
    }
   ],
   "source": [
    "import numpy as np\n",
    "minimal_years = df['years of experience']\n",
    "print('the average minimal years of experience is {}'.format(np.mean(minimal_years)))"
   ]
  },
  {
   "cell_type": "markdown",
   "metadata": {},
   "source": [
    "This problem was executed in the exact same manner as the previous one. We again used Numpy in order to find the mean number of our dataset. The only difference here was that a seperate list was established that contained the minimal years of experience required. "
   ]
  },
  {
   "cell_type": "markdown",
   "metadata": {},
   "source": [
    "# Q2.7"
   ]
  },
  {
   "cell_type": "code",
   "execution_count": 9,
   "metadata": {},
   "outputs": [
    {
     "name": "stdout",
     "output_type": "stream",
     "text": [
      "The correlation coefficient between years of experience and salaries is [[1.         0.17404156]\n",
      " [0.17404156 1.        ]]\n"
     ]
    }
   ],
   "source": [
    "print(\"The correlation coefficient between {} is {}\".format('years of experience and salaries',np.corrcoef(minimal_years,salary_list)))"
   ]
  },
  {
   "cell_type": "code",
   "execution_count": 10,
   "metadata": {},
   "outputs": [
    {
     "data": {
      "image/png": "[encoded data removed]",
      "text/plain": [
       "<Figure size 432x288 with 1 Axes>"
      ]
     },
     "metadata": {},
     "output_type": "display_data"
    }
   ],
   "source": [
    "plt.scatter(minimal_years,salary_list)\n",
    "plt.xlabel('Necessary Years of Experience')\n",
    "plt.ylabel('Salary')\n",
    "plt.show()"
   ]
  },
  {
   "cell_type": "markdown",
   "metadata": {},
   "source": [
    "The method used for this question is rooted in the two previous questions. To find how years of experience was related to salaries, we used both of our previously established lists: minimal_years and salary_list. We then used the np.corrcoef funtion, paired with both of those lists, to be able to determine the correlation coefficient of 0.17404156. This was then used to aid in establishing the scatter plot seen above. The simple plt.scatter function was utilized, and both minimal_years and salary_list was used as the variables. We opted to include labels with the graph on both the x and y axes. Necessary years of experience is our x variable, and salary is the y variable.  "
   ]
  },
  {
   "cell_type": "markdown",
   "metadata": {},
   "source": [
    "# Q2.8"
   ]
  },
  {
   "cell_type": "code",
   "execution_count": 34,
   "metadata": {},
   "outputs": [
    {
     "name": "stdout",
     "output_type": "stream",
     "text": [
      "As a Political Analyst for the CIA, you will support policymakers by producing and delivering written and oral assessments of the domestic politics, foreign policy, stability, and social issues of foreign governments and entities. Your analysis will examine these actors' goals and motivations, culture, values, history, society, decision making processes, and ideologies in the context of how those elements affect US interests and national security.\n",
      "Serve as an INTELLIGENCE ANALYST/ADVISOR with the Department of Defense Expeditionary Civilian (DoD-EC) Workforce. Volunteering to deploy gives civilians an extraordinary opportunity to use their capabilities, experience, and knowledge while directly supporting operations of national interest. Individuals can volunteer to fill critical functions supporting the U.S. Military in foreign locations, to include Afghanistan, Iraq, Kuwait & Qatar.\n",
      "Conduct extensive, comprehensive research and basic analysis on high priority counterintelligence threats\n",
      "\n",
      "Review government reporting and raw data to identify information of interest upon instruction\n",
      "\n",
      "Conduct research via Palentir and open source tools to obtain information that would assist in the intelligence analysis and production relating to prioritized counterintelligence threats\n",
      "\n",
      "Assist creating countermeasures and explaining the purposes of trends and patterns\n",
      "\n",
      "Create visual and graphical reports to convey the threat\n",
      "\n",
      "Candidates must be able to travel to Quantico MCB once a week or as necessary (reimbursable).\n",
      "Collecting and reviewing SF86 Background Questionnaires and clearance paperwork\n",
      "Preparing Program Access Requests (PARs) and accompanying forms\n",
      "Assisting with document control to include receiving, logging, organizing, and accounting of documents\n",
      "Sending/receiving visitor certifications\n",
      "Database management\n",
      "Support self-inspection reviews\n",
      "Conduct security briefings and participate in security education programs\n",
      "Other administrative security tasks, as needed (i.e. random hand-carry inspections, escorting, issuing badges, etc.)\n",
      "Provides knowledge with respect to accounting and financial practices, securities, banking laws and systems, conventional and non-conventional financial institutions, and profit/non-profit businesses.  Develops and/or assists with developing new forensic accounting techniques applicable to various financial investigations.\n",
      "Independently conducts forensic analysis of financial data.  Conducts and coordinates the examination of financial aspects of the investigation in cooperation with cases agents, prosecuting attorneys and others.\n",
      "Assesses the value of financial evidence; unravels sophisticated techniques for moving funds and shielding illegal activity.  Provides financial profiles of individuals and groups.  Compiles detailed financial findings and conclusions to prepare in-depth forensic accounting reports\n",
      "Utilizes various computer applications to review and interpret implications on a vast number and variety of financial transactions, and other corporate, business, and financial processes, associations, and record-keeping systems.\n",
      "Produces detailed financial investigative reports and exhibits.  May participate in subject and key witness interviews and testifies as needed as a fact and/or expert witness in judicial proceedings.  Develops and provides forensic accounting presentations/briefings.\n",
      "\n",
      "Analyze, identify, and assess data attributes using statistical software packages; develop recommendations and processes to improve operational performance ensuring adherence to Bureau policies and procedures.\n",
      "Coordinates multifaceted scientific research and analytic activities and provides scientific and technical consultation.\n",
      "Utilizes a full array of scientific modeling methods to evaluate information and develop alternative contingency plans.\n",
      "Coordinates and/or conducts research and developmental studies to support the management and coordination of technical resources Bureau wide, nationwide, and worldwide such as the analysis of resource information databases, communication systems, and alert networks.\n",
      "Leverage previous contracting/procurement experience to assist and support the Acquisition Career Manager (ACM) to develop and/or manage various workforce development programs, such as the COR Liaison program, the Project Manager program, and the specialty cohorts; determine structure, roles and responsibilities, qualifications, and the like for each program..\n",
      "\n",
      "Assist the ACM in completing actions related to CO, COR, Realty Specialist, and PM certifications, to include (but not limited to) running reports in FAITAS, updating information and approving requests in FAITAS, requesting waivers, coordinating training, and responding to data calls.\n",
      "\n",
      "Prepare and deliver briefings and presentations to management officials. Compose memoranda, executive summaries, analytical narratives, detailed statistical or descriptive reports, and/or concise graphs/charts in order to present sound recommendations\n",
      "\n",
      "Develop, maintain, and conduct training and other developmental activities to educate targeted audiences.\n",
      "Develop, maintain, and /or disseminate information to a variety of audiences through multiple methods (e.g., email, in person, newsletters, website(s), etc.)\n",
      "Function as an Offensive Counterintelligence Operations Case Officer in a strategic Offensive Counterintelligence Operations detachment.\n",
      "Be responsible for planning and conducting sensitive and complex Offensive Counterintelligence Operations.\n",
      "Perform a full range of case officer functions as they pertain to the operational cycle, ensuring activities support Department of the Army, Department of Defense, Combatant Commands and national requirements.\n",
      "Provide guidance and oversight for Target focused Analysis on operations throughout theater.\n",
      "Direct and participate in information retrieval, knowledge management, analysis, and the development of assessments of facts and threat intents and their implications on the operating environment.\n",
      "Develop and standardize intelligence processes and procedures and synchronizes efforts with command and leadership to advance operational integration.\n",
      "Provide intelligence analysis on nuclear proliferation, foreign nuclear energy programs, and/or nuclear fuel cycle.\n",
      "Manage a research portfolio to include timely and periodic maintenance and reporting tasks and project to Branch management.\n",
      "Work closely within IN management and other members of Foreign Nuclear Programs Divisions to formulate and execute appropriate actions required to provide reportable and actionable intelligence.\n",
      "Provide customer support to Department of Energy  and National Nuclear Security Administration (NNSA) managers and seniors officials.\n",
      "Performs preliminary and advanced analysis to establish target identification and activity patterns.\n",
      "Analyzes intelligence information and assesses developments, trends, and threat implications.\n",
      "Identifies, reports, and maintains intelligence information to support deliberate and crisis action planning and targeting processes.\n",
      "Coordinates exploitation of specialized intelligence systems and programs using metadata retrieval techniques and capabilities.\n",
      "Conducts research from multiple sources for development of intelligence products in support of defensive Cyber Operations through threat mapping and trend and pattern analysis of threat forces and linkage analysis.\n",
      "Assesses and reports on the full range of threat actions and capabilities.\n",
      "Develops liaison with counterparts from other agencies and organizations to ensure synchronization and integrity of methodologies, database development, and intelligence community tradecraft.\n",
      "Collaborate with business partners, key stakeholders, and internal groups to formulate technical response strategies to address information security incidents.\n",
      "Provide technical guidance for the detection and remediation strategies of information security incidents enterprise-wide.\n",
      "Provide Administration and relationship management for threat intelligence services.\n",
      "Daily review of data feeds from threat intelligence services.\n",
      "Identify and generation of new threat intelligence data found through research.\n",
      "Perform the weekly creation and publication of pertinent threat content to the Cyber Threat team, including detection and remediation proposals.\n",
      "Support threat hunting using Splunk to search for the presence of identified IOC’s.\n",
      "Support the Cyber Threat Protection team as needed.\n",
      "Identify and utilize analytical skills and/or tools to quickly process and refine information into actionable intelligence.\n",
      "Identify, obtain, and handle large data sets of disparate intelligence.\n",
      "Perform quantitative analysis of intelligence data to support prioritization of resources.\n",
      "Apply intelligence gathering constructs to technical and non-technical data sets.\n",
      "Provide analytical/operational insight and experience as a resident SME for the DCGS-A Program Office.\n",
      "This support will include but is not limited to supporting User Engagement events (WFXs, CTCs, etc.), software enhancement discussions, and testing events.\n",
      "Work with Industry Partners and Systems Engineers to provide advice on the implementation of requirements to enhance capabilities of DCGS-A for currently fielded and future releases of DCGS-A software baselines.\n",
      "Review Test Cases and create Workflows/TTPs, as well as document user stories.\n",
      "Assist with the traceability of requirements to workflows and the identification of gaps across the DCGS-A Family of Systems for future development efforts.\n",
      "Provide technical field support, over the shoulder training, integration, and testing in support of DCGS-A participation in fielding directly to CONUS/OCONUS locations\n",
      "Develop and Implement Counterintelligence/Insider Threat Program Policy.\n",
      "Distribute national security awareness materials concerning counterintelligence and insider threat for agency staff and overseas activities.\n",
      "Provide assistance to senior management in establishing policies, procedural guidelines, and directives for portions of larger studies.\n",
      "Provide technical expertise, advice and guidance to implement existing and/or new intelligence activities concerning the national public health community.\n",
      "Serves as an expert foreign affairs intelligence analyst, providing all-source intelligence analysis of North Korea, including individuals, institutions, decision dynamics, policy trends, and cultural influences in North Korea&#8217;s political system.\n",
      "Prepares written and oral briefings on all-source intelligence for INR and within the U.S. Intelligence Community (IC) for the Presidents Daily Brief (PDB) and National Intelligence Council (NIC).\n",
      "Ensures that the intelligence needs of the State Department policymakers are clearly conveyed to appropriate collection agencies within the IC.\n",
      "Actively represents INR with the IC and other interagency venues. Ensures INR views are represented in the coordination of IC analytic products, including the PDB, NIC, and other interagency communities.\n",
      "Prepares oral briefings of political and security development in the above-mentioned specialty area.\n",
      "Planning, preparing and conducting counterintelligence and force protection briefings for DTRA personnel going on and returning from foreign travel.\n",
      "Providing predictive assessments of future behavior of foreign inspectors and escorts during the performance of arms control inspection activities.\n",
      "Providing counterintelligence support to arms control treaty missions and activities.\n",
      "Conducting research and analysis on matters of counterintelligence or force protection concern.\n",
      "Conducting counterintelligence and force protection assessments of DTRA and DoD facilities and programs worldwide.\n",
      "Interpreting specialized datasets or other intelligence regarding a target's technological capabilities and produces intelligence assessments that explain their impact on homeland security operations.\n",
      "Applying foundational knowledge of Foreign Intelligence Entity (FIE) capabilities and the ability to leverage Intelligence Community (IC) resources to determine impact on operations within supported components.\n",
      "Gathering information and conducting activities to protect against espionage and other intelligence activities conducted for/or on behalf of FIE.\n",
      "Identifying and advancing opportunities to provide Counterintelligence support to Homeland Security operations and other sensitive activities.\n",
      "Conducting research and analysis of threats to the homeland, operations, and trends to support all source intelligence and production, particularly in the areas of threats to Homeland and National Security.\n",
      "Gains and maintains global situational awareness by receiving, coordinating, and disseminating classified and unclassified information;\n",
      "Facilitates the exchange of law enforcement and national intelligence between ICE directorates, ICE leadership, the Department and the Intelligence Community (IC); participates in joint efforts;\n",
      "Provides timely, accurate, and relevant information to senior leadership and management in real time concerning ongoing events, and emerging threats related to ICE missions through event tracking, situation monitoring and information management;\n",
      "Shares information with ICE Directorates, the Department, the IC and other federal, state, and local partners consistent with DHS operational reporting standards and information sharing policies; and\n",
      "Maintains proficiency in multiple classified and unclassified information, communications, and electronic personnel tracking systems.\n",
      "Provide administrative and technical supervision necessary for accomplishing the work of the unit;\n",
      "Provide program direction for formulating and implementing and supporting a worldwide program, both domestic and international for the collection, analysis productions, and dissemination of both operational and strategic intelligence;\n",
      "Analyze, evaluate, and integrate data from multiple sources to assess its relevance and determine the significance that may impact operations for a major geographical area;\n",
      "Plan and direct activities for an intelligence program with a major geographical scope.\n",
      "Collaborates with headquarters and field personnel in the development of quantitative and qualitative standards for use in the collection, evaluation and reporting of intelligence data and investigative analyses.\n",
      "Provides direction to field analytic units for the development of data gathering methods, analytic product metrics, and procedures for the dissemination of information and intelligence.\n",
      "Monitors and evaluates investigative analyst initiatives, programs, and projects to ensure appropriate utilization and allocation of analytical resources at the field and headquarters level.\n",
      "Develops and implements analytic performance indicators, targets in support of strategic planning, forecasting, training, and operational performance.\n",
      "Participates in the planning, coordination, and implementation of comprehensive special studies, national criminal forecast and profiles, and inter-agency intelligence research to support decision making.\n",
      "Designs and develops formal communications related to national and global strategic trends, forecasts of investigative and audit activities, and emerging criminal patterns and networks.\n",
      "Oversees the development of headquarters and field information technology system requirements for data collection, research, and intelligence formulation and validation.\n",
      "Oversees the planning and coordination of analyst training and development initiatives, and develops procedures to monitor and assesses the effectiveness of internal and external training and development programs.\n",
      "Provides technical advice, program guidance, and testimonial services to federal, state, and local law enforcement communities on intelligence development and analytic initiatives; serves on inter-agency, national, and global task groups addressing current and emerging criminal trends and recommend solutions.\n",
      "Develops intelligence data and analysis through the use of software or data mining tools.\n",
      "Monitor open source domestic/global real-time all-hazard incidents; analyze potential threats and risks and disseminate error free reports to customers\n",
      "Operate independently and make decisions regarding all aspects of incident reporting in a timely manner\n",
      "Implement operational processes and procedures; demonstrate advanced analytical and research skills, and display good judgement and discretion in reporting\n",
      "Manage customer inquiries and interactions in an effective and professional manner\n",
      "Escalate issues in a time-sensitive manner to the appropriate parties\n",
      "Maintain consistent and punctual attendance, demonstrate scheduling flexibility to meet operational needs\n",
      "Understand company’s mission, how our work impacts customers, and model the company principles\n"
     ]
    }
   ],
   "source": [
    "for duty in df['job duty']:\n",
    "    print (duty)"
   ]
  },
  {
   "cell_type": "code",
   "execution_count": 35,
   "metadata": {},
   "outputs": [
    {
     "name": "stdout",
     "output_type": "stream",
     "text": [
      "Monitor open source domestic/global real-time all-hazard incidents; analyze potential threats and risks and disseminate error free reports to customers\n",
      "Operate independently and make decisions regarding all aspects of incident reporting in a timely manner\n",
      "Implement operational processes and procedures; demonstrate advanced analytical and research skills, and display good judgement and discretion in reporting\n",
      "Manage customer inquiries and interactions in an effective and professional manner\n",
      "Escalate issues in a time-sensitive manner to the appropriate parties\n",
      "Maintain consistent and punctual attendance, demonstrate scheduling flexibility to meet operational needs\n",
      "Understand company’s mission, how our work impacts customers, and model the company principlesCollaborates with headquarters and field personnel in the development of quantitative and qualitative standards for use in the collection, evaluation and reporting of intelligence data and investigative analyses.\n",
      "Provides direction to field analytic units for the development of data gathering methods, analytic product metrics, and procedures for the dissemination of information and intelligence.\n",
      "Monitors and evaluates investigative analyst initiatives, programs, and projects to ensure appropriate utilization and allocation of analytical resources at the field and headquarters level.\n",
      "Develops and implements analytic performance indicators, targets in support of strategic planning, forecasting, training, and operational performance.\n",
      "Participates in the planning, coordination, and implementation of comprehensive special studies, national criminal forecast and profiles, and inter-agency intelligence research to support decision making.\n",
      "Designs and develops formal communications related to national and global strategic trends, forecasts of investigative and audit activities, and emerging criminal patterns and networks.\n",
      "Oversees the development of headquarters and field information technology system requirements for data collection, research, and intelligence formulation and validation.\n",
      "Oversees the planning and coordination of analyst training and development initiatives, and develops procedures to monitor and assesses the effectiveness of internal and external training and development programs.\n",
      "Provides technical advice, program guidance, and testimonial services to federal, state, and local law enforcement communities on intelligence development and analytic initiatives; serves on inter-agency, national, and global task groups addressing current and emerging criminal trends and recommend solutions.\n",
      "Develops intelligence data and analysis through the use of software or data mining tools.Provide administrative and technical supervision necessary for accomplishing the work of the unit;\n",
      "Provide program direction for formulating and implementing and supporting a worldwide program, both domestic and international for the collection, analysis productions, and dissemination of both operational and strategic intelligence;\n",
      "Analyze, evaluate, and integrate data from multiple sources to assess its relevance and determine the significance that may impact operations for a major geographical area;\n",
      "Plan and direct activities for an intelligence program with a major geographical scope.Gains and maintains global situational awareness by receiving, coordinating, and disseminating classified and unclassified information;\n",
      "Facilitates the exchange of law enforcement and national intelligence between ICE directorates, ICE leadership, the Department and the Intelligence Community (IC); participates in joint efforts;\n",
      "Provides timely, accurate, and relevant information to senior leadership and management in real time concerning ongoing events, and emerging threats related to ICE missions through event tracking, situation monitoring and information management;\n",
      "Shares information with ICE Directorates, the Department, the IC and other federal, state, and local partners consistent with DHS operational reporting standards and information sharing policies; and\n",
      "Maintains proficiency in multiple classified and unclassified information, communications, and electronic personnel tracking systems.Interpreting specialized datasets or other intelligence regarding a target's technological capabilities and produces intelligence assessments that explain their impact on homeland security operations.\n",
      "Applying foundational knowledge of Foreign Intelligence Entity (FIE) capabilities and the ability to leverage Intelligence Community (IC) resources to determine impact on operations within supported components.\n",
      "Gathering information and conducting activities to protect against espionage and other intelligence activities conducted for/or on behalf of FIE.\n",
      "Identifying and advancing opportunities to provide Counterintelligence support to Homeland Security operations and other sensitive activities.\n",
      "Conducting research and analysis of threats to the homeland, operations, and trends to support all source intelligence and production, particularly in the areas of threats to Homeland and National Security.Planning, preparing and conducting counterintelligence and force protection briefings for DTRA personnel going on and returning from foreign travel.\n",
      "Providing predictive assessments of future behavior of foreign inspectors and escorts during the performance of arms control inspection activities.\n",
      "Providing counterintelligence support to arms control treaty missions and activities.\n",
      "Conducting research and analysis on matters of counterintelligence or force protection concern.\n",
      "Conducting counterintelligence and force protection assessments of DTRA and DoD facilities and programs worldwide.Serves as an expert foreign affairs intelligence analyst, providing all-source intelligence analysis of North Korea, including individuals, institutions, decision dynamics, policy trends, and cultural influences in North Korea&#8217;s political system.\n",
      "Prepares written and oral briefings on all-source intelligence for INR and within the U.S. Intelligence Community (IC) for the Presidents Daily Brief (PDB) and National Intelligence Council (NIC).\n",
      "Ensures that the intelligence needs of the State Department policymakers are clearly conveyed to appropriate collection agencies within the IC.\n",
      "Actively represents INR with the IC and other interagency venues. Ensures INR views are represented in the coordination of IC analytic products, including the PDB, NIC, and other interagency communities.\n",
      "Prepares oral briefings of political and security development in the above-mentioned specialty area.Develop and Implement Counterintelligence/Insider Threat Program Policy.\n",
      "Distribute national security awareness materials concerning counterintelligence and insider threat for agency staff and overseas activities.\n",
      "Provide assistance to senior management in establishing policies, procedural guidelines, and directives for portions of larger studies.\n",
      "Provide technical expertise, advice and guidance to implement existing and/or new intelligence activities concerning the national public health community.Provide analytical/operational insight and experience as a resident SME for the DCGS-A Program Office.\n",
      "This support will include but is not limited to supporting User Engagement events (WFXs, CTCs, etc.), software enhancement discussions, and testing events.\n",
      "Work with Industry Partners and Systems Engineers to provide advice on the implementation of requirements to enhance capabilities of DCGS-A for currently fielded and future releases of DCGS-A software baselines.\n",
      "Review Test Cases and create Workflows/TTPs, as well as document user stories.\n",
      "Assist with the traceability of requirements to workflows and the identification of gaps across the DCGS-A Family of Systems for future development efforts.\n",
      "Provide technical field support, over the shoulder training, integration, and testing in support of DCGS-A participation in fielding directly to CONUS/OCONUS locationsCollaborate with business partners, key stakeholders, and internal groups to formulate technical response strategies to address information security incidents.\n",
      "Provide technical guidance for the detection and remediation strategies of information security incidents enterprise-wide.\n",
      "Provide Administration and relationship management for threat intelligence services.\n",
      "Daily review of data feeds from threat intelligence services.\n",
      "Identify and generation of new threat intelligence data found through research.\n",
      "Perform the weekly creation and publication of pertinent threat content to the Cyber Threat team, including detection and remediation proposals.\n",
      "Support threat hunting using Splunk to search for the presence of identified IOC’s.\n",
      "Support the Cyber Threat Protection team as needed.\n",
      "Identify and utilize analytical skills and/or tools to quickly process and refine information into actionable intelligence.\n",
      "Identify, obtain, and handle large data sets of disparate intelligence.\n",
      "Perform quantitative analysis of intelligence data to support prioritization of resources.\n",
      "Apply intelligence gathering constructs to technical and non-technical data sets.Performs preliminary and advanced analysis to establish target identification and activity patterns.\n",
      "Analyzes intelligence information and assesses developments, trends, and threat implications.\n",
      "Identifies, reports, and maintains intelligence information to support deliberate and crisis action planning and targeting processes.\n",
      "Coordinates exploitation of specialized intelligence systems and programs using metadata retrieval techniques and capabilities.\n",
      "Conducts research from multiple sources for development of intelligence products in support of defensive Cyber Operations through threat mapping and trend and pattern analysis of threat forces and linkage analysis.\n",
      "Assesses and reports on the full range of threat actions and capabilities.\n",
      "Develops liaison with counterparts from other agencies and organizations to ensure synchronization and integrity of methodologies, database development, and intelligence community tradecraft.Provide intelligence analysis on nuclear proliferation, foreign nuclear energy programs, and/or nuclear fuel cycle.\n",
      "Manage a research portfolio to include timely and periodic maintenance and reporting tasks and project to Branch management.\n",
      "Work closely within IN management and other members of Foreign Nuclear Programs Divisions to formulate and execute appropriate actions required to provide reportable and actionable intelligence.\n",
      "Provide customer support to Department of Energy  and National Nuclear Security Administration (NNSA) managers and seniors officials.Function as an Offensive Counterintelligence Operations Case Officer in a strategic Offensive Counterintelligence Operations detachment.\n",
      "Be responsible for planning and conducting sensitive and complex Offensive Counterintelligence Operations.\n",
      "Perform a full range of case officer functions as they pertain to the operational cycle, ensuring activities support Department of the Army, Department of Defense, Combatant Commands and national requirements.\n",
      "Provide guidance and oversight for Target focused Analysis on operations throughout theater.\n",
      "Direct and participate in information retrieval, knowledge management, analysis, and the development of assessments of facts and threat intents and their implications on the operating environment.\n",
      "Develop and standardize intelligence processes and procedures and synchronizes efforts with command and leadership to advance operational integration.Leverage previous contracting/procurement experience to assist and support the Acquisition Career Manager (ACM) to develop and/or manage various workforce development programs, such as the COR Liaison program, the Project Manager program, and the specialty cohorts; determine structure, roles and responsibilities, qualifications, and the like for each program..\n",
      "\n",
      "Assist the ACM in completing actions related to CO, COR, Realty Specialist, and PM certifications, to include (but not limited to) running reports in FAITAS, updating information and approving requests in FAITAS, requesting waivers, coordinating training, and responding to data calls.\n",
      "\n",
      "Prepare and deliver briefings and presentations to management officials. Compose memoranda, executive summaries, analytical narratives, detailed statistical or descriptive reports, and/or concise graphs/charts in order to present sound recommendations\n",
      "\n",
      "Develop, maintain, and conduct training and other developmental activities to educate targeted audiences.\n",
      "Develop, maintain, and /or disseminate information to a variety of audiences through multiple methods (e.g., email, in person, newsletters, website(s), etc.)Analyze, identify, and assess data attributes using statistical software packages; develop recommendations and processes to improve operational performance ensuring adherence to Bureau policies and procedures.\n",
      "Coordinates multifaceted scientific research and analytic activities and provides scientific and technical consultation.\n",
      "Utilizes a full array of scientific modeling methods to evaluate information and develop alternative contingency plans.\n",
      "Coordinates and/or conducts research and developmental studies to support the management and coordination of technical resources Bureau wide, nationwide, and worldwide such as the analysis of resource information databases, communication systems, and alert networks.Provides knowledge with respect to accounting and financial practices, securities, banking laws and systems, conventional and non-conventional financial institutions, and profit/non-profit businesses.  Develops and/or assists with developing new forensic accounting techniques applicable to various financial investigations.\n",
      "Independently conducts forensic analysis of financial data.  Conducts and coordinates the examination of financial aspects of the investigation in cooperation with cases agents, prosecuting attorneys and others.\n",
      "Assesses the value of financial evidence; unravels sophisticated techniques for moving funds and shielding illegal activity.  Provides financial profiles of individuals and groups.  Compiles detailed financial findings and conclusions to prepare in-depth forensic accounting reports\n",
      "Utilizes various computer applications to review and interpret implications on a vast number and variety of financial transactions, and other corporate, business, and financial processes, associations, and record-keeping systems.\n",
      "Produces detailed financial investigative reports and exhibits.  May participate in subject and key witness interviews and testifies as needed as a fact and/or expert witness in judicial proceedings.  Develops and provides forensic accounting presentations/briefings.\n",
      "Collecting and reviewing SF86 Background Questionnaires and clearance paperwork\n",
      "Preparing Program Access Requests (PARs) and accompanying forms\n",
      "Assisting with document control to include receiving, logging, organizing, and accounting of documents\n",
      "Sending/receiving visitor certifications\n",
      "Database management\n",
      "Support self-inspection reviews\n",
      "Conduct security briefings and participate in security education programs\n",
      "Other administrative security tasks, as needed (i.e. random hand-carry inspections, escorting, issuing badges, etc.)Conduct extensive, comprehensive research and basic analysis on high priority counterintelligence threats\n",
      "\n",
      "Review government reporting and raw data to identify information of interest upon instruction\n",
      "\n",
      "Conduct research via Palentir and open source tools to obtain information that would assist in the intelligence analysis and production relating to prioritized counterintelligence threats\n",
      "\n",
      "Assist creating countermeasures and explaining the purposes of trends and patterns\n",
      "\n",
      "Create visual and graphical reports to convey the threat\n",
      "\n",
      "Candidates must be able to travel to Quantico MCB once a week or as necessary (reimbursable).Serve as an INTELLIGENCE ANALYST/ADVISOR with the Department of Defense Expeditionary Civilian (DoD-EC) Workforce. Volunteering to deploy gives civilians an extraordinary opportunity to use their capabilities, experience, and knowledge while directly supporting operations of national interest. Individuals can volunteer to fill critical functions supporting the U.S. Military in foreign locations, to include Afghanistan, Iraq, Kuwait & Qatar.As a Political Analyst for the CIA, you will support policymakers by producing and delivering written and oral assessments of the domestic politics, foreign policy, stability, and social issues of foreign governments and entities. Your analysis will examine these actors' goals and motivations, culture, values, history, society, decision making processes, and ideologies in the context of how those elements affect US interests and national security.\n"
     ]
    }
   ],
   "source": [
    "duties =''\n",
    "for duty in df['job duty']:\n",
    "    duties = duty + duties\n",
    "print (duties)"
   ]
  },
  {
   "cell_type": "code",
   "execution_count": 12,
   "metadata": {},
   "outputs": [],
   "source": [
    "import xlwt        \n",
    "\n",
    "from collections import Counter        \n",
    "\n",
    "from nltk.corpus import stopwords\n",
    "\n",
    "stop = set(stopwords.words('english'))\n",
    "\n",
    "  \n",
    "\n",
    "book = xlwt.Workbook() \n",
    "\n",
    "sheet_test = book.add_sheet('word_count')\n",
    "\n",
    "i = 0\n",
    "\n",
    "sheet_test.write(i,0,'word')\n",
    "\n",
    "sheet_test.write(i,1,'count') \n",
    "\n",
    "sheet_test.write(i,2,'ratio') "
   ]
  },
  {
   "cell_type": "code",
   "execution_count": 43,
   "metadata": {},
   "outputs": [],
   "source": [
    "\n",
    "word_list = [i for i in duties.lower().split() if i not in stop]\n",
    "\n",
    "word_total = word_list.__len__()\n",
    "\n",
    "\n",
    "\n",
    "count_result =  Counter(word_list)\n",
    "\n",
    "for result in count_result.most_common(20):\n",
    "\n",
    "    i = i+1 \n",
    "\n",
    "    sheet_test.write(i,0,result[0])\n",
    "\n",
    "    sheet_test.write(i,1,result[1])\n",
    "\n",
    "    sheet_test.write(i,2,(result[1]/word_total))\n",
    "\n",
    "    \n",
    "\n",
    "book.save('duties.xls')"
   ]
  },
  {
   "cell_type": "markdown",
   "metadata": {},
   "source": [
    "<img src=\"Duties.png\">"
   ]
  },
  {
   "cell_type": "markdown",
   "metadata": {},
   "source": [
    "In this question, we sought to find the common job duties amongst our selected postings. We started by printing the entirety of our job duty descriptions with a for loop. We then established an empty list, \"duties,\" in order to compile all of the descriptions into one larger list. This had to be done because in their previous state, the duty descriptions were all seperate entities. Once compiled, we created a new excel sheet that would contain our new data through python. In this same step, we imported the stopwords funtion as well to be able to sort through the unecessary filler words. Once the stopwords were removed, the Counter funtion was implemented again on the new dataset contained within the excel sheet. The most common result funtion was again utilized to find the twenty most common words contained within the duty descriptions. We then utilized Tableau in order to make the word cloud seen above. "
   ]
  },
  {
   "cell_type": "markdown",
   "metadata": {},
   "source": [
    "# Q2.9"
   ]
  },
  {
   "cell_type": "code",
   "execution_count": 38,
   "metadata": {},
   "outputs": [
    {
     "name": "stdout",
     "output_type": "stream",
     "text": [
      "Bachelor’s Degree or High School Diploma and a minimum of three years of work experience in the writing/research based/emergency management field.\n",
      "Superior written and verbal communication skills in English\n",
      "Strong PC and internet research skills\n",
      "Strong attention to detail and accuracy\n",
      "Knowledge of and interest in world affairs, journalism, or related fields\n",
      "Must have legal right to work in the USKnowledge of information technology sufficient to research and communicate with internal and external secure electronic databases.                                                                                                               Ability to design quantitative and qualitative evaluative methods to ensure integrity, quality, and reliability of intelligence data and analytic products.\n",
      "Ability to implement analytic performance indicators, targets, and metrics related to organizational strategies, information technology requirements, and inter-agency intelligence regulations.\n",
      "Ability to effectively communicate both orally and in writing to clearly convey information, findings, and recommendations to varied audiences, both internal and external about strategic trends, patterns, and networks.\n",
      "Ability to plan, coordinate, and implement special studies, national criminal forecast and profiles, and inter-agency intelligence research to increase organizational effectiveness and decision-making.\n",
      "Ability to plan, coordinate, and analyze training initiatives and programs.\n",
      "Ability to oversee and coordinate the work of others to achieve program or project objectives, including monitoring performance, facilitating the flow of work-related information, and providing technical guidance.\n",
      "Knowledge of investigative, security, and preventative activities relating to the mission, role and various jurisdictions of law enforcement.Must be able to observe and evaluate work performance and provide informal/formal feedback to develop the subordinate's knowledge and effectiveness;\n",
      "Must have excellent Oral and Written Communication skills; collaborating with external stakeholders on joint intelligence priorities;\n",
      "Advance understanding of the intelligence community, the rule of law, policies, procedures, and protocols to operate in collaborative multi-agency settings; and\n",
      "Skill in collecting, analyzing, evaluating, producing, and disseminating complex law enforcement intelligence in support of significant investigations, assessments, projects or programs.\n",
      "Assisting senior specialists in the collection, collation, and basic analysis of law enforcement operations and intelligence information;\n",
      "Conducting preliminary research from a variety of sources to assist in law enforcement and intelligence operations; and\n",
      "Disseminating law enforcement operations and intelligence reports and products using prescribed methods. Applying appropriate knowledge to support the conduct of counterintelligence activities by understanding how regulatory or enforcement programs are administered;\n",
      "Using specialized technical tools to conduct analysis of patterns of activity;\n",
      "Preparing all counterintelligence related official plans and documents;\n",
      "Using automated systems, national level databases, hard copy studies, and/or open source information to perform counterintelligence research against Foreign Intelligence Entities (FIE);Counterintelligence\n",
      "Oral Communication\n",
      "Written CommunicationsExperience producing policy-relevant analytic assessments for senior level foreign policymakers based on all-source intelligence relating to the leaders, institutions, decision dynamics, and policy trends in North Korea’s political system as they bear on U.S. national security and foreign policy interests.\n",
      "Experience coordinating the production of analytic assessments based on all-source information relating to the leaders, institutions, decision dynamics, and policy trends in North Korea’s political system as they bear on U.S. national security and foreign policy interests.\n",
      "Experience preparing and delivering oral presentations for senior-level foreign policy makers based on all-source intelligence relating to the leaders, institutions, decision dynamics, and policy trends in North Korea’s political system as they bear on U. S. national security and foreign policy interests.FINISHA security clearance at the TOP SECRET with SCI or higher level is required.One (1) year of experience organizing and contextualizing Cyber threat intelligence, and communicating the nature, impact and mitigations for applicable threats\n",
      "Proficiency with creating and updating graphs, charts and visual aids to convey information\n",
      "Previous experience working with Splunk\n",
      "Advanced Threat Protection knowledge working with Windows, Linux and MacCommunications\n",
      "Cybersecurity and Cyber Operations\n",
      "Data Collection and AnalysisExperience providing reviews and evaluation of intelligence reports and raw data to develop informed conclusions based on knowledge of foreign nuclear proliferation, foreign nuclear energy programs, and/or nuclear fuel cycle.\n",
      "Experience planning, directing, and evaluating foreign nuclear vulnerability and threat intelligence research projects.\n",
      "Experience producing finished intelligence assessments on foreign nuclear proliferation, foreign nuclear energy programs, and/or nuclear fuel cycle.\n",
      "Experience briefing to senior DOE policy makers and/or support to projects related to nuclear non-proliferation, counter-proliferation, and nuclear weapons-related issues.Counterintelligence (CI) Operations\n",
      "Oral Communication\n",
      "Technical Competence\n",
      "WritingAnalytic Thinking\n",
      "Problem Solving/Judgement\n",
      "CommunicationData Analysis\n",
      "Algorithms\n",
      "Analytic Thinking\n",
      "Data Visualization\n",
      "Research (Data)Accounting\n",
      "Analytic Thinking\n",
      "Auditing\n",
      "Communication\n",
      "Customer Service\n",
      "Flexibility/Adaptability\n",
      "Forensic Accounting\n",
      "Initiative\n",
      "Organizing and Planning\n",
      "Technology ApplicationProficient with all Microsoft Office Suite (Word, Excel, PowerPoint, etc.)\n",
      "Excellent skills in customer service, verbal, and written communicationCurrent Top Secret government security clearance and eligibility for SCI is required.\n",
      "\n",
      "Knowledge on targeted technology as they pertain to the defense industry.\n",
      "\n",
      "Experience in using a wide variety of analytical techniques used to determine and communicate trends and patterns, fill gaps in information and project events, identify anomalies, ascribe meaning to events or information from disparate sources, and develop defensible judgments and conclusions based on accepted research and analytical methodologies.\n",
      "\n",
      "Experience with software applications such as Analyst Notebook; and expert in Microsoft Access, Excel, Power Point, Publisher, and Word.\n",
      "\n",
      "Experience with graphical analytical presentations, charts, tables, pivot tables and visual aids to represent the threat.\n",
      "\n",
      "Expert in social media intelligence analysis\n",
      "Assist in planning and coordinating Counter-threat financing (CTF) activities in the Area of Region (AOR) to provide of areas where the CTF activities do not comply with legal and regulatory requirements;    Assist in utilizing critical node analysis to identify financial centers of gravity within terrorist and insurgent networks and                                                                                                                                             Provide Counter-threat financing (CTF) intelligence reports/updates (written & orally) to management.Strong critical thinking and problem solving skills\n"
     ]
    }
   ],
   "source": [
    "skills =''\n",
    "for skill in df['required skills']:\n",
    "    skills = skill + skills\n",
    "print (skills)"
   ]
  },
  {
   "cell_type": "code",
   "execution_count": 11,
   "metadata": {},
   "outputs": [],
   "source": [
    "import xlwt        \n",
    "\n",
    "from collections import Counter        \n",
    "\n",
    "from nltk.corpus import stopwords\n",
    "\n",
    "stop = set(stopwords.words('english'))\n",
    "\n",
    "  \n",
    "\n",
    "book = xlwt.Workbook() \n",
    "\n",
    "sheet_test = book.add_sheet('word_count') \n",
    "\n",
    "i = 0\n",
    "\n",
    "sheet_test.write(i,0,'word') \n",
    "\n",
    "sheet_test.write(i,1,'count') \n",
    "\n",
    "sheet_test.write(i,2,'ratio') "
   ]
  },
  {
   "cell_type": "code",
   "execution_count": 42,
   "metadata": {},
   "outputs": [],
   "source": [
    "word_list = [i for i in skills.lower().split() if i not in stop]\n",
    "\n",
    "word_total = word_list.__len__()\n",
    "\n",
    "\n",
    "\n",
    "count_result =  Counter(word_list)\n",
    "\n",
    "for result in count_result.most_common(20):\n",
    "\n",
    "    i = i+1 \n",
    "\n",
    "    sheet_test.write(i,0,result[0])\n",
    "\n",
    "    sheet_test.write(i,1,result[1])\n",
    "\n",
    "    sheet_test.write(i,2,(result[1]/word_total))\n",
    "\n",
    "    \n",
    "\n",
    "book.save('skills.xls')\n"
   ]
  },
  {
   "cell_type": "markdown",
   "metadata": {},
   "source": [
    "<img src=\"Skills.png\">"
   ]
  },
  {
   "cell_type": "markdown",
   "metadata": {},
   "source": [
    "In this question, the most common skills from the job postings were desired. We basically recreated the same process from the previous question here. We first combined all of the skill descriptions into one large list rather than seperate entities. Then we imported xlwt, Counter, and stopwords again. A new excel sheet was established to house our new data set of common skills. The filler words were then done away with prior to implementing the Counter funtion. Once stopwords was utilized, we then used the Counter funtion to assess the remaining text in the sheet. Of those, the top twenty were displayed by using the most common result funtion again. Tableau was again used to depict the most commonly desired skills in the form of the word cloud seen above.  "
   ]
  },
  {
   "cell_type": "markdown",
   "metadata": {},
   "source": [
    "# Conclusion"
   ]
  },
  {
   "cell_type": "markdown",
   "metadata": {},
   "source": [
    "The general conclusion drawn from this project is that the Intelligence Community (IC) is vastly varied in occupational capacities. One is very tempted to believe that all intelligence analysis jobs are directly regarding national security. While that is a very common occurence, they do not make up the greater IC. From this project, the scope of the IC's backbone was able to be seen. This project forced us to acknowledge the dire logistical needs of employers within the IC in the form of internal financial analysts, political analysts, management analysts, data scientists, and so on. \n",
    "\n",
    "The major limitations of this project would arguably have to be the scope of our accumulated job postings. The process is adequate, and the results are informative representative of the data selected. We persoanlly believe that due to the required quantity of twenty (20) job postings, a more accurate depiction of the job market within the IC can not be attained. To improve this project, we think an extra day or two of purely data collection might be of assistance. This would allow for the accrument of more job postings, in turn resulting in a relatively more accurate depiction. Also, a greater timeline could possibly allow for the use of analytical techniques shown earlier in the semster that were left untouched with this assignment such as the use of json data. "
   ]
  },
  {
   "cell_type": "code",
   "execution_count": null,
   "metadata": {},
   "outputs": [],
   "source": []
  }
 ],
 "metadata": {
  "kernelspec": {
   "display_name": "Python 3",
   "language": "python",
   "name": "python3"
  },
  "language_info": {
   "codemirror_mode": {
    "name": "ipython",
    "version": 3
   },
   "file_extension": ".py",
   "mimetype": "text/x-python",
   "name": "python",
   "nbconvert_exporter": "python",
   "pygments_lexer": "ipython3",
   "version": "3.6.5"
  }
 },
 "nbformat": 4,
 "nbformat_minor": 2
}
