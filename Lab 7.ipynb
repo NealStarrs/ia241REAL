{
 "cells": [
  {
   "cell_type": "markdown",
   "metadata": {},
   "source": [
    "# Q1\n",
    "\n",
    "Company: Metro\n",
    "Description: A Anti-Terror analyst in/around the Metro (DC) to support Homeland Security Investigations and Intelligence Bureau (HSIIB) departmental operations\n",
    "[job website](https://www.indeed.com/jobs?q=Intelligence%20Analysis&l=Washington%2C%20DC&vjk=2666edf71c7b3200&advn=477295927342672)"
   ]
  },
  {
   "cell_type": "markdown",
   "metadata": {},
   "source": [
    "# Q2"
   ]
  },
  {
   "cell_type": "code",
   "execution_count": 5,
   "metadata": {},
   "outputs": [
    {
     "name": "stdout",
     "output_type": "stream",
     "text": [
      "word: and\n",
      "count: 51\n",
      "word: to\n",
      "count: 24\n",
      "word: of\n",
      "count: 21\n",
      "word: intelligence\n",
      "count: 13\n",
      "word: the\n",
      "count: 13\n",
      "word: a\n",
      "count: 12\n",
      "word: or\n",
      "count: 8\n",
      "word: for\n",
      "count: 8\n",
      "word: in\n",
      "count: 7\n",
      "word: is\n",
      "count: 7\n",
      "word: criminal\n",
      "count: 6\n",
      "word: information\n",
      "count: 6\n",
      "word: from\n",
      "count: 5\n",
      "word: law\n",
      "count: 5\n",
      "word: an\n",
      "count: 5\n",
      "word: The\n",
      "count: 4\n",
      "word: be\n",
      "count: 4\n",
      "word: other\n",
      "count: 4\n",
      "word: as\n",
      "count: 4\n",
      "word: Monitor\n",
      "count: 4\n"
     ]
    }
   ],
   "source": [
    "from collections import Counter\n",
    "with open('Job.txt','r') as job:\n",
    "    count_result = Counter(job.read().split())\n",
    "    for result in count_result.most_common(20):\n",
    "        print('word:',result[0])\n",
    "        print('count:',result[1])"
   ]
  },
  {
   "cell_type": "markdown",
   "metadata": {},
   "source": [
    "# Q3"
   ]
  },
  {
   "cell_type": "code",
   "execution_count": 2,
   "metadata": {},
   "outputs": [],
   "source": [
    "import xlwt\n",
    "from collections import Counter\n",
    "\n",
    "book = xlwt.Workbook()\n",
    "sheet_test = book.add_sheet('word_count')\n",
    "i = 0\n",
    "sheet_test.write(i,0,'word')\n",
    "sheet_test.write(i,1,'count')\n",
    "\n",
    "with open('Job.txt','r') as jmu_news:\n",
    "    count_result = Counter(jmu_news.read().split())\n",
    "    for result in count_result.most_common(20):\n",
    "        i = i + 1\n",
    "        sheet_test.write(i,0,result[0])\n",
    "        sheet_test.write(i,1,result[1])\n",
    "        \n",
    "book.save('Job_Wanted.xls')"
   ]
  },
  {
   "cell_type": "markdown",
   "metadata": {},
   "source": [
    "# Q4"
   ]
  },
  {
   "cell_type": "code",
   "execution_count": 4,
   "metadata": {},
   "outputs": [
    {
     "name": "stdout",
     "output_type": "stream",
     "text": [
      "['word', 'count']\n",
      "['and', 51.0]\n",
      "['to', 24.0]\n",
      "['of', 21.0]\n",
      "['intelligence', 13.0]\n",
      "['the', 13.0]\n",
      "['a', 12.0]\n",
      "['or', 8.0]\n",
      "['for', 8.0]\n",
      "['in', 7.0]\n",
      "['is', 7.0]\n",
      "['criminal', 6.0]\n",
      "['information', 6.0]\n",
      "['from', 5.0]\n",
      "['law', 5.0]\n",
      "['an', 5.0]\n",
      "['The', 4.0]\n",
      "['be', 4.0]\n",
      "['other', 4.0]\n",
      "['as', 4.0]\n"
     ]
    }
   ],
   "source": [
    "import xlrd\n",
    "book = xlrd.open_workbook('Job_Wanted.xls')\n",
    "sheet_test = book.sheet_by_name(\"word_count\")\n",
    "\n",
    "for i in range(20):\n",
    "    row = sheet_test.row_values(i)\n",
    "    print(row)"
   ]
  },
  {
   "cell_type": "markdown",
   "metadata": {},
   "source": [
    "# Q5"
   ]
  },
  {
   "cell_type": "markdown",
   "metadata": {},
   "source": [
    "<img src = '\sheet 1.png\'>"
   ]
  },
  {
   "cell_type": "code",
   "execution_count": null,
   "metadata": {},
   "outputs": [],
   "source": []
  }
 ],
 "metadata": {
  "kernelspec": {
   "display_name": "Python 3",
   "language": "python",
   "name": "python3"
  },
  "language_info": {
   "codemirror_mode": {
    "name": "ipython",
    "version": 3
   },
   "file_extension": ".py",
   "mimetype": "text/x-python",
   "name": "python",
   "nbconvert_exporter": "python",
   "pygments_lexer": "ipython3",
   "version": "3.6.5"
  }
 },
 "nbformat": 4,
 "nbformat_minor": 2
}
