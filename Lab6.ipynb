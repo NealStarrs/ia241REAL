{
 "cells": [
  {
   "cell_type": "markdown",
   "metadata": {},
   "source": [
    "# Q2"
   ]
  },
  {
   "cell_type": "markdown",
   "metadata": {},
   "source": [
    "\n",
    "My census key is d0b3cdde3d93b3fa5e2cea8716c1c16e75b13a83"
   ]
  },
  {
   "cell_type": "markdown",
   "metadata": {},
   "source": [
    "# Q3"
   ]
  },
  {
   "cell_type": "code",
   "execution_count": 1,
   "metadata": {},
   "outputs": [],
   "source": [
    "from urllib import request\n",
    "\n",
    "import json\n",
    "\n",
    "from pprint import pprint\n",
    "\n",
    "import xlwt"
   ]
  },
  {
   "cell_type": "code",
   "execution_count": 2,
   "metadata": {},
   "outputs": [],
   "source": [
    "census_api_key = 'd0b3cdde3d93b3fa5e2cea8716c1c16e75b13a83'"
   ]
  },
  {
   "cell_type": "code",
   "execution_count": 3,
   "metadata": {},
   "outputs": [],
   "source": [
    "url_str = 'https://api.census.gov/data/2016/acs/acs5?get=B01001_001E,B01001_002E,NAME&for=county:*&in=state:51&key='+census_api_key # create the url of your census data "
   ]
  },
  {
   "cell_type": "code",
   "execution_count": 4,
   "metadata": {},
   "outputs": [],
   "source": [
    "response = request.urlopen(url_str) # read the response into computer\n",
    "html_str = response.read().decode(\"utf-8\") # convert the response into string"
   ]
  },
  {
   "cell_type": "code",
   "execution_count": 5,
   "metadata": {},
   "outputs": [],
   "source": [
    "book = xlwt.Workbook()\n",
    "\n",
    "sheet = book.add_sheet('va_pop')\n",
    "i=0\n",
    "if html_str:\n",
    "    json_data = json.loads(html_str)\n",
    "    for record in json_data:\n",
    "        total_pop, male_pop,name,state,count_num = record\n",
    "        sheet.write(i,0,total_pop)\n",
    "        sheet.write(i,1,male_pop)\n",
    "        i +=1\n",
    "\n",
    "book.save('census.xls')\n",
    "      "
   ]
  },
  {
   "cell_type": "markdown",
   "metadata": {},
   "source": [
    "# Q4"
   ]
  },
  {
   "cell_type": "code",
   "execution_count": 8,
   "metadata": {},
   "outputs": [
    {
     "name": "stdout",
     "output_type": "stream",
     "text": [
      "['B01001_001E', 'B01001_002E']\n",
      "['33060', '16125']\n",
      "['104287', '49946']\n",
      "['15919', '7788']\n",
      "['12793', '6642']\n",
      "['31999', '15346']\n",
      "['15314', '7424']\n",
      "['226092', '112644']\n",
      "['74330', '37572']\n",
      "['4558', '2465']\n"
     ]
    }
   ],
   "source": [
    "import xlrd\n",
    "book = xlrd.open_workbook('census.xls')\n",
    "my_sheet = book.sheet_by_name('va_pop')\n",
    "\n",
    "for i in range(10):\n",
    "    row = my_sheet.row_values(i)\n",
    "    print(row)"
   ]
  },
  {
   "cell_type": "markdown",
   "metadata": {},
   "source": [
    "# Q5"
   ]
  },
  {
   "cell_type": "markdown",
   "metadata": {},
   "source": [
    "Read your Excel file in python, add a new column, and calculate the male/total ratio\n",
    "for each county."
   ]
  },
  {
   "cell_type": "code",
   "execution_count": 17,
   "metadata": {},
   "outputs": [
    {
     "name": "stdout",
     "output_type": "stream",
     "text": [
      "va_pop\n"
     ]
    }
   ],
   "source": [
    "from xlutils.copy import copy\n",
    "read_book = xlrd.open_workbook('census.xls')\n",
    "\n",
    "sheet_read = read_book.sheet_by_name('va_pop')\n",
    "num_record = sheet_read.nrows\n",
    "writing_book = copy(read_book)\n",
    "\n",
    "sheet_write = writing_book.get_sheet(0)\n",
    "print(sheet_write.name)\n",
    "\n",
    "for i in range(num_record):\n",
    "    row = sheet_read.row_values(i)\n",
    "    if i ==0:\n",
    "        sheet_write.write(0,3,'male/total')\n",
    "    else:\n",
    "        sheet_write.write(i,3,int(row[1])/int(row[0]))\n",
    "        \n",
    "writing_book.save('census.xls')"
   ]
  },
  {
   "cell_type": "markdown",
   "metadata": {},
   "source": [
    "# Q6"
   ]
  },
  {
   "cell_type": "markdown",
   "metadata": {},
   "source": [
    "Load the data from the Excel into your notebook and print the first ten rows with\n",
    "the new column."
   ]
  },
  {
   "cell_type": "code",
   "execution_count": 18,
   "metadata": {},
   "outputs": [
    {
     "name": "stdout",
     "output_type": "stream",
     "text": [
      "['B01001_001E', 'B01001_002E', '', 'male/total']\n",
      "['33060', '16125', '', 0.48774954627949185]\n",
      "['104287', '49946', '', 0.4789283419793455]\n",
      "['15919', '7788', '', 0.48922671022049125]\n",
      "['12793', '6642', '', 0.5191901821308528]\n",
      "['31999', '15346', '', 0.4795774867964624]\n",
      "['15314', '7424', '', 0.48478516390231163]\n",
      "['226092', '112644', '', 0.4982219627408312]\n",
      "['74330', '37572', '', 0.5054755818646576]\n",
      "['4558', '2465', '', 0.5408073716542343]\n"
     ]
    }
   ],
   "source": [
    "import xlrd\n",
    "book = xlrd.open_workbook('census.xls')\n",
    "my_sheet = book.sheet_by_name('va_pop')\n",
    "\n",
    "for i in range(10):\n",
    "    row = my_sheet.row_values(i)\n",
    "    print(row)"
   ]
  },
  {
   "cell_type": "code",
   "execution_count": null,
   "metadata": {},
   "outputs": [],
   "source": []
  }
 ],
 "metadata": {
  "kernelspec": {
   "display_name": "Python 3",
   "language": "python",
   "name": "python3"
  },
  "language_info": {
   "codemirror_mode": {
    "name": "ipython",
    "version": 3
   },
   "file_extension": ".py",
   "mimetype": "text/x-python",
   "name": "python",
   "nbconvert_exporter": "python",
   "pygments_lexer": "ipython3",
   "version": "3.6.5"
  }
 },
 "nbformat": 4,
 "nbformat_minor": 2
}
